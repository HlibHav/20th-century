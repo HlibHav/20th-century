{
 "cells": [
  {
   "cell_type": "markdown",
   "id": "a1b2c3d4-e5f6-7890-abcd-ef1234567890",
   "metadata": {},
   "source": [
    "# Scraping Countries from Wikipedia HTML\n",
    "\n",
    "This notebook extracts a list of countries from the saved Wikipedia HTML file and saves it as a CSV."
   ]
  },
  {
   "cell_type": "code",
   "execution_count": null,
   "id": "import-libs",
   "metadata": {},
   "outputs": [],
   "source": [
    "# Import required libraries\n",
    "import pandas as pd\n",
    "from bs4 import BeautifulSoup\n",
    "import re"
   ]
  },
  {
   "cell_type": "code",
   "execution_count": null,
   "id": "load-html",
   "metadata": {},
   "outputs": [],
   "source": [
    "# Load the HTML file\n",
    "with open('List_of_countries.html', 'r', encoding='utf-8') as file:\n",
    "    html_content = file.read()\n",
    "\n",
    "# Parse the HTML\n",
    "soup = BeautifulSoup(html_content, 'html.parser')\n",
    "print(\"HTML file loaded and parsed successfully!\")"
   ]
  },
  {
   "cell_type": "code",
   "execution_count": null,
   "id": "extract-countries",
   "metadata": {},
   "outputs": [],
   "source": [
    "# Find all country links in the main Countries section\n",
    "countries = []\n",
    "\n",
    "# Look for the main Countries section\n",
    "countries_section = soup.find('section', {'class': 'mf-section-1'})\n",
    "\n",
    "if countries_section:\n",
    "    # Find all links that are country names (they have title attributes)\n",
    "    country_links = countries_section.find_all('a', href=True, title=True)\n",
    "    \n",
    "    for link in country_links:\n",
    "        # Skip edit links and other non-country links\n",
    "        if '/wiki/' in link['href'] and 'action=edit' not in link['href']:\n",
    "            country_name = link.get_text().strip()\n",
    "            if country_name and country_name not in ['change', 'edit']:\n",
    "                countries.append(country_name)\n",
    "\n",
    "# Also check other sections that might contain countries\n",
    "all_sections = soup.find_all('section', class_=re.compile('mf-section'))\n",
    "\n",
    "for section in all_sections:\n",
    "    # Look for country links in each section\n",
    "    country_links = section.find_all('a', href=True, title=True)\n",
    "    \n",
    "    for link in country_links:\n",
    "        if '/wiki/' in link['href'] and 'action=edit' not in link['href']:\n",
    "            country_name = link.get_text().strip()\n",
    "            if (country_name and \n",
    "                country_name not in ['change', 'edit'] and \n",
    "                country_name not in countries and\n",
    "                len(country_name) > 2):  # Filter out very short names\n",
    "                countries.append(country_name)\n",
    "\n",
    "# Remove duplicates while preserving order\n",
    "unique_countries = []\n",
    "seen = set()\n",
    "for country in countries:\n",
    "    if country not in seen:\n",
    "        unique_countries.append(country)\n",
    "        seen.add(country)\n",
    "\n",
    "print(f\"Found {len(unique_countries)} unique countries\")\n",
    "print(\"First 10 countries:\", unique_countries[:10])"
   ]
  },
  {
   "cell_type": "code",
   "execution_count": null,
   "id": "create-dataframe",
   "metadata": {},
   "outputs": [],
   "source": [
    "# Create a DataFrame\n",
    "df = pd.DataFrame(unique_countries, columns=['Country'])\n",
    "\n",
    "# Add an index column\n",
    "df.reset_index(drop=True, inplace=True)\n",
    "df.index = df.index + 1  # Start index from 1\n",
    "\n",
    "# Display the first few rows\n",
    "print(\"Countries DataFrame:\")\n",
    "print(df.head(10))\n",
    "print(f\"\\nTotal countries: {len(df)}\")"
   ]
  },
  {
   "cell_type": "code",
   "execution_count": null,
   "id": "save-csv",
   "metadata": {},
   "outputs": [],
   "source": [
    "# Save to CSV\n",
    "csv_filename = 'countries_list.csv'\n",
    "df.to_csv(csv_filename, index=True, index_label='ID')\n",
    "\n",
    "print(f\"Countries list saved to {csv_filename}\")\n",
    "print(f\"File contains {len(df)} countries\")"
   ]
  },
  {
   "cell_type": "code",
   "execution_count": null,
   "id": "display-sample",
   "metadata": {},
   "outputs": [],
   "source": [
    "# Display a sample of the saved data\n",
    "print(\"Sample of saved data:\")\n",
    "sample_df = pd.read_csv(csv_filename)\n",
    "print(sample_df.head(15))\n",
    "print(\"...\")\n",
    "print(sample_df.tail(5))"
   ]
  }
 ],
 "metadata": {
  "kernelspec": {
   "display_name": "Python 3 (ipykernel)",
   "language": "python",
   "name": "python3"
  },
  "language_info": {
   "codemirror_mode": {
    "name": "ipython",
    "version": 3
   },
   "file_extension": ".py",
   "mimetype": "text/x-python",
   "name": "python",
   "nbconvert_exporter": "python",
   "pygments_lexer": "ipython3",
   "version": "3.9.7"
  }
 },
 "nbformat": 4,
 "nbformat_minor": 5
}